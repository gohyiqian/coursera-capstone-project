{
    "nbformat_minor": 1, 
    "cells": [
        {
            "source": "## 1. Introduction\nDiscuss the business problem and audience who would interested", 
            "cell_type": "markdown", 
            "metadata": {
                "collapsed": true
            }
        }, 
        {
            "source": "I plan to start a Cafe in a multicultural city and would like to do some background research on the best location for the cafe. \nThe research should be able to provide me answers to the following questions:\n1. What types of cafe are popular now in New York City & Singapore?\n2. Why are these type of cafe popular?\n3. What are the types of businesses around these popular cafes?", 
            "cell_type": "markdown", 
            "metadata": {}
        }, 
        {
            "source": "## 2. Data\nDescribe the data that you will be using to solve the problem or execute your idea. ", 
            "cell_type": "markdown", 
            "metadata": {}
        }, 
        {
            "source": "1. New York City data that contains list Boroughs, Neighborhoods along with their latitude and longitude\n\n   (Data Source: https://cocl.us/new_york_dataset)\n\n\n2. Singapore City data that contains Towns, Neighborhoods along with their latitude and longitude\n   \n   (Data Source:  Foursquare API)", 
            "cell_type": "markdown", 
            "metadata": {}
        }, 
        {
            "source": "", 
            "cell_type": "code", 
            "metadata": {}, 
            "outputs": [], 
            "execution_count": null
        }
    ], 
    "metadata": {
        "kernelspec": {
            "display_name": "Python 3.5", 
            "name": "python3", 
            "language": "python"
        }, 
        "language_info": {
            "mimetype": "text/x-python", 
            "nbconvert_exporter": "python", 
            "version": "3.5.5", 
            "name": "python", 
            "pygments_lexer": "ipython3", 
            "file_extension": ".py", 
            "codemirror_mode": {
                "version": 3, 
                "name": "ipython"
            }
        }
    }, 
    "nbformat": 4
}